{
 "cells": [
  {
   "cell_type": "markdown",
   "metadata": {},
   "source": [
    "<h1><p style = \"text-align:center\">Restaurant Guide</p>"
   ]
  },
  {
   "cell_type": "markdown",
   "metadata": {},
   "source": [
    "<h2> Introduction/Business Problem:"
   ]
  },
  {
   "cell_type": "markdown",
   "metadata": {},
   "source": [
    "Delhi is all about food. One can find the best of north Indian food there. With more than 5000+ restaurants diner must find it easy to pick a restaurant which is best suited for his preferences. We will be filtering restaurants on the basis of locality, reviews and cusines which will be resulting in top pick in each category.Also, will be providing description about the restaurants along with the ratings as to make it easier for the viewer to choose accordingly.\n",
    "\n",
    "Targeted audiance will be city residents, tourists all young and old who likes to eat out. This will help tourists as it will be a handy user guide to pick the best place to taste the flavours of India."
   ]
  },
  {
   "cell_type": "markdown",
   "metadata": {},
   "source": [
    "<h2>Data"
   ]
  },
  {
   "cell_type": "markdown",
   "metadata": {},
   "source": [
    "Datasets are available on kaggel. From there will be downloading a dataset on which we will be performing are manipulations and ploting a graph of the area in the end. Foursquare API will be used to call data regarding particular area. \n",
    "\n",
    "For example: kaggel data will help us with the list of restuarants and foursquare api will help us with detailed description about the particular restaurant"
   ]
  },
  {
   "cell_type": "code",
   "execution_count": null,
   "metadata": {},
   "outputs": [],
   "source": []
  }
 ],
 "metadata": {
  "kernelspec": {
   "display_name": "Python 3",
   "language": "python",
   "name": "python3"
  },
  "language_info": {
   "codemirror_mode": {
    "name": "ipython",
    "version": 3
   },
   "file_extension": ".py",
   "mimetype": "text/x-python",
   "name": "python",
   "nbconvert_exporter": "python",
   "pygments_lexer": "ipython3",
   "version": "3.7.6"
  }
 },
 "nbformat": 4,
 "nbformat_minor": 2
}
